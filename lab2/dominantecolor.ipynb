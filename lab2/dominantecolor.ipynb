{
 "cells": [
  {
   "cell_type": "code",
   "execution_count": 24,
   "id": "a8063fd8-ed6d-4167-8756-814bcfe58a30",
   "metadata": {
    "ExecuteTime": {
     "end_time": "2024-10-09T16:15:25.635020300Z",
     "start_time": "2024-10-09T16:15:25.518141500Z"
    }
   },
   "outputs": [],
   "source": [
    "#import needed libraries\n",
    "import cv2\n",
    "import numpy as np\n",
    "from sklearn.cluster import KMeans\n",
    "import matplotlib.pyplot as plt"
   ]
  },
  {
   "cell_type": "code",
   "execution_count": 25,
   "id": "b013263a-72b1-4bd9-9cf8-b08f98c5ac22",
   "metadata": {
    "ExecuteTime": {
     "end_time": "2024-10-09T16:15:25.636024200Z",
     "start_time": "2024-10-09T16:15:25.538031700Z"
    }
   },
   "outputs": [],
   "source": [
    "#read the image\n",
    "image_path = \"car.jpg\"\n",
    "k=5\n",
    "image = cv2.imread(image_path)\n",
    "image = cv2.cvtColor(image, cv2.COLOR_BGR2RGB)\n",
    "image = cv2.resize(image, (600, 400))"
   ]
  },
  {
   "cell_type": "code",
   "execution_count": 1,
   "id": "25cf379a-eff9-4bed-98d5-4833c12393dc",
   "metadata": {
    "ExecuteTime": {
     "end_time": "2024-10-15T14:17:22.621192200Z",
     "start_time": "2024-10-15T14:17:19.911364900Z"
    }
   },
   "outputs": [
    {
     "ename": "NameError",
     "evalue": "name 'image' is not defined",
     "output_type": "error",
     "traceback": [
      "\u001B[1;31m---------------------------------------------------------------------------\u001B[0m",
      "\u001B[1;31mNameError\u001B[0m                                 Traceback (most recent call last)",
      "Cell \u001B[1;32mIn[1], line 2\u001B[0m\n\u001B[0;32m      1\u001B[0m \u001B[38;5;66;03m# Converting the image 2d array of pixels\u001B[39;00m\n\u001B[1;32m----> 2\u001B[0m pixels \u001B[38;5;241m=\u001B[39m \u001B[43mimage\u001B[49m\u001B[38;5;241m.\u001B[39mreshape((\u001B[38;5;241m-\u001B[39m\u001B[38;5;241m1\u001B[39m, \u001B[38;5;241m3\u001B[39m))\n",
      "\u001B[1;31mNameError\u001B[0m: name 'image' is not defined"
     ]
    }
   ],
   "source": [
    "# Converting the image 2d array of pixels\n",
    "pixels = image.reshape((-1, 3))"
   ]
  },
  {
   "cell_type": "code",
   "execution_count": 27,
   "id": "c167a1b6-3f6e-4b93-a54d-95ac0c70c94a",
   "metadata": {
    "ExecuteTime": {
     "end_time": "2024-10-09T16:15:28.860518600Z",
     "start_time": "2024-10-09T16:15:25.623023600Z"
    }
   },
   "outputs": [
    {
     "name": "stderr",
     "output_type": "stream",
     "text": [
      "C:\\Users\\lenovo\\AppData\\Local\\Programs\\Python\\Python312\\Lib\\site-packages\\sklearn\\cluster\\_kmeans.py:1416: FutureWarning: The default value of `n_init` will change from 10 to 'auto' in 1.4. Set the value of `n_init` explicitly to suppress the warning\n",
      "  super()._check_params_vs_input(X, default_n_init=10)\n"
     ]
    },
    {
     "data": {
      "text/plain": "KMeans(n_clusters=5)",
      "text/html": "<style>#sk-container-id-3 {color: black;}#sk-container-id-3 pre{padding: 0;}#sk-container-id-3 div.sk-toggleable {background-color: white;}#sk-container-id-3 label.sk-toggleable__label {cursor: pointer;display: block;width: 100%;margin-bottom: 0;padding: 0.3em;box-sizing: border-box;text-align: center;}#sk-container-id-3 label.sk-toggleable__label-arrow:before {content: \"▸\";float: left;margin-right: 0.25em;color: #696969;}#sk-container-id-3 label.sk-toggleable__label-arrow:hover:before {color: black;}#sk-container-id-3 div.sk-estimator:hover label.sk-toggleable__label-arrow:before {color: black;}#sk-container-id-3 div.sk-toggleable__content {max-height: 0;max-width: 0;overflow: hidden;text-align: left;background-color: #f0f8ff;}#sk-container-id-3 div.sk-toggleable__content pre {margin: 0.2em;color: black;border-radius: 0.25em;background-color: #f0f8ff;}#sk-container-id-3 input.sk-toggleable__control:checked~div.sk-toggleable__content {max-height: 200px;max-width: 100%;overflow: auto;}#sk-container-id-3 input.sk-toggleable__control:checked~label.sk-toggleable__label-arrow:before {content: \"▾\";}#sk-container-id-3 div.sk-estimator input.sk-toggleable__control:checked~label.sk-toggleable__label {background-color: #d4ebff;}#sk-container-id-3 div.sk-label input.sk-toggleable__control:checked~label.sk-toggleable__label {background-color: #d4ebff;}#sk-container-id-3 input.sk-hidden--visually {border: 0;clip: rect(1px 1px 1px 1px);clip: rect(1px, 1px, 1px, 1px);height: 1px;margin: -1px;overflow: hidden;padding: 0;position: absolute;width: 1px;}#sk-container-id-3 div.sk-estimator {font-family: monospace;background-color: #f0f8ff;border: 1px dotted black;border-radius: 0.25em;box-sizing: border-box;margin-bottom: 0.5em;}#sk-container-id-3 div.sk-estimator:hover {background-color: #d4ebff;}#sk-container-id-3 div.sk-parallel-item::after {content: \"\";width: 100%;border-bottom: 1px solid gray;flex-grow: 1;}#sk-container-id-3 div.sk-label:hover label.sk-toggleable__label {background-color: #d4ebff;}#sk-container-id-3 div.sk-serial::before {content: \"\";position: absolute;border-left: 1px solid gray;box-sizing: border-box;top: 0;bottom: 0;left: 50%;z-index: 0;}#sk-container-id-3 div.sk-serial {display: flex;flex-direction: column;align-items: center;background-color: white;padding-right: 0.2em;padding-left: 0.2em;position: relative;}#sk-container-id-3 div.sk-item {position: relative;z-index: 1;}#sk-container-id-3 div.sk-parallel {display: flex;align-items: stretch;justify-content: center;background-color: white;position: relative;}#sk-container-id-3 div.sk-item::before, #sk-container-id-3 div.sk-parallel-item::before {content: \"\";position: absolute;border-left: 1px solid gray;box-sizing: border-box;top: 0;bottom: 0;left: 50%;z-index: -1;}#sk-container-id-3 div.sk-parallel-item {display: flex;flex-direction: column;z-index: 1;position: relative;background-color: white;}#sk-container-id-3 div.sk-parallel-item:first-child::after {align-self: flex-end;width: 50%;}#sk-container-id-3 div.sk-parallel-item:last-child::after {align-self: flex-start;width: 50%;}#sk-container-id-3 div.sk-parallel-item:only-child::after {width: 0;}#sk-container-id-3 div.sk-dashed-wrapped {border: 1px dashed gray;margin: 0 0.4em 0.5em 0.4em;box-sizing: border-box;padding-bottom: 0.4em;background-color: white;}#sk-container-id-3 div.sk-label label {font-family: monospace;font-weight: bold;display: inline-block;line-height: 1.2em;}#sk-container-id-3 div.sk-label-container {text-align: center;}#sk-container-id-3 div.sk-container {/* jupyter's `normalize.less` sets `[hidden] { display: none; }` but bootstrap.min.css set `[hidden] { display: none !important; }` so we also need the `!important` here to be able to override the default hidden behavior on the sphinx rendered scikit-learn.org. See: https://github.com/scikit-learn/scikit-learn/issues/21755 */display: inline-block !important;position: relative;}#sk-container-id-3 div.sk-text-repr-fallback {display: none;}</style><div id=\"sk-container-id-3\" class=\"sk-top-container\"><div class=\"sk-text-repr-fallback\"><pre>KMeans(n_clusters=5)</pre><b>In a Jupyter environment, please rerun this cell to show the HTML representation or trust the notebook. <br />On GitHub, the HTML representation is unable to render, please try loading this page with nbviewer.org.</b></div><div class=\"sk-container\" hidden><div class=\"sk-item\"><div class=\"sk-estimator sk-toggleable\"><input class=\"sk-toggleable__control sk-hidden--visually\" id=\"sk-estimator-id-3\" type=\"checkbox\" checked><label for=\"sk-estimator-id-3\" class=\"sk-toggleable__label sk-toggleable__label-arrow\">KMeans</label><div class=\"sk-toggleable__content\"><pre>KMeans(n_clusters=5)</pre></div></div></div></div></div>"
     },
     "execution_count": 27,
     "metadata": {},
     "output_type": "execute_result"
    }
   ],
   "source": [
    "# Appliquer KMeans pour la segmentation des couleurs\n",
    "clt = KMeans(n_clusters=k)\n",
    "clt.fit(pixels)"
   ]
  },
  {
   "cell_type": "code",
   "execution_count": 28,
   "id": "51f20907-706c-4200-893b-d6844828e2f7",
   "metadata": {
    "ExecuteTime": {
     "end_time": "2024-10-09T16:15:28.872523100Z",
     "start_time": "2024-10-09T16:15:28.835442700Z"
    }
   },
   "outputs": [],
   "source": [
    "#calculate the histogram colors \n",
    "num_labels = np.arange(0, len(np.unique(clt.labels_)) + 1)\n",
    "hist, _ = np.histogram(clt.labels_, bins=num_labels)\n",
    "\n",
    "hist = hist.astype(\"float\")\n",
    "hist /= hist.sum()"
   ]
  },
  {
   "cell_type": "code",
   "execution_count": 29,
   "id": "c2380581-8fb8-4b1c-aa80-57dffaf6a567",
   "metadata": {
    "ExecuteTime": {
     "end_time": "2024-10-09T16:15:28.893517300Z",
     "start_time": "2024-10-09T16:15:28.873523800Z"
    }
   },
   "outputs": [],
   "source": [
    "#calculat the dominant color \n",
    "bar = np.zeros((50, 300, 3), dtype=\"uint8\")\n",
    "start_x = 0\n",
    "\n",
    "for (percent, color) in zip(hist, clt.cluster_centers_):\n",
    "    end_x = start_x + (percent * 300)\n",
    "    cv2.rectangle(bar, (int(start_x), 0), (int(end_x), 50),\n",
    "                  color.astype(\"uint8\").tolist(), -1)\n",
    "    start_x = end_x"
   ]
  },
  {
   "cell_type": "code",
   "execution_count": null,
   "outputs": [],
   "source": [],
   "metadata": {
    "collapsed": false
   },
   "id": "463d78814c4fb923"
  },
  {
   "cell_type": "code",
   "execution_count": null,
   "id": "509fccc3-6ee0-4a52-8170-9121193ec015",
   "metadata": {
    "ExecuteTime": {
     "start_time": "2024-10-15T14:17:22.609200200Z"
    }
   },
   "outputs": [],
   "source": [
    "#ploting the image\n",
    "plt.figure()\n",
    "plt.axis(\"off\")\n",
    "plt.imshow(image)"
   ]
  },
  {
   "cell_type": "code",
   "execution_count": 31,
   "id": "5c34faad-620d-47a1-b0cc-7bd53a5bdce6",
   "metadata": {
    "ExecuteTime": {
     "end_time": "2024-10-09T16:15:29.294408600Z",
     "start_time": "2024-10-09T16:15:29.196192500Z"
    }
   },
   "outputs": [
    {
     "data": {
      "text/plain": "<Figure size 640x480 with 1 Axes>",
      "image/png": "[encoded data removed]"
     },
     "metadata": {},
     "output_type": "display_data"
    }
   ],
   "source": [
    "#ploting the bar of dominant color\n",
    "plt.figure()\n",
    "plt.axis(\"OFF\")\n",
    "plt.imshow(bar)\n",
    "plt.show()"
   ]
  },
  {
   "cell_type": "code",
   "execution_count": 31,
   "id": "d75072ab-3d81-4e14-bf6f-269095fb916b",
   "metadata": {
    "ExecuteTime": {
     "end_time": "2024-10-09T16:15:29.346179Z",
     "start_time": "2024-10-09T16:15:29.294408600Z"
    }
   },
   "outputs": [],
   "source": []
  }
 ],
 "metadata": {
  "kernelspec": {
   "display_name": "Python 3 (ipykernel)",
   "language": "python",
   "name": "python3"
  },
  "language_info": {
   "codemirror_mode": {
    "name": "ipython",
    "version": 3
   },
   "file_extension": ".py",
   "mimetype": "text/x-python",
   "name": "python",
   "nbconvert_exporter": "python",
   "pygments_lexer": "ipython3",
   "version": "3.12.0"
  }
 },
 "nbformat": 4,
 "nbformat_minor": 5
}
